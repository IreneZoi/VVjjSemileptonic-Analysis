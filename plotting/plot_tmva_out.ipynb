{
 "cells": [
  {
   "cell_type": "code",
   "execution_count": null,
   "metadata": {},
   "outputs": [],
   "source": [
    "import ROOT\n",
    "from pyroot_cms_scripts import CMS_style\n",
    "import os"
   ]
  },
  {
   "cell_type": "code",
   "execution_count": null,
   "metadata": {},
   "outputs": [],
   "source": [
    "configs = [\n",
    "    \"wv_BDTG6\",\n",
    "    \"wjj_BDTG6\",\n",
    "]\n",
    "bdt_files = {\n",
    "    c: ROOT.TFile.Open(f\"{c}/tmva_output.root\") for c in configs\n",
    "}\n",
    "\n",
    "plots_dir = \"tmva_plots\""
   ]
  },
  {
   "cell_type": "code",
   "execution_count": null,
   "metadata": {},
   "outputs": [],
   "source": [
    "bdt_outputs = {\n",
    "    c: f.Get(f\"{c}/Method_BDT/BDT\") for c, f in bdt_files.items()\n",
    "}"
   ]
  },
  {
   "cell_type": "code",
   "execution_count": null,
   "metadata": {},
   "outputs": [],
   "source": [
    "ROOT.gROOT.ForceStyle()\n",
    "ROOT.gStyle.SetOptStat(0)\n",
    "ROOT.gStyle.SetPalette(ROOT.kRainBow)"
   ]
  },
  {
   "cell_type": "code",
   "execution_count": null,
   "metadata": {},
   "outputs": [],
   "source": [
    "hists = {}\n",
    "roc = {}\n",
    "for c, f in bdt_outputs.items():\n",
    "    hists[f\"{c}_mva_s\"] = f.Get(\"MVA_BDT_S\")\n",
    "    hists[f\"{c}_mva_b\"] = f.Get(\"MVA_BDT_B\")\n",
    "    hists[f\"{c}_mva_s_train\"] = f.Get(\"MVA_BDT_Train_S\")\n",
    "    hists[f\"{c}_mva_b_train\"] = f.Get(\"MVA_BDT_Train_B\")\n",
    "\n",
    "    roc[f\"{c}_effBvsS\"] = f.Get(\"MVA_BDT_effBvsS\")\n",
    "    roc[f\"{c}_effBvsS_train\"] = f.Get(\"MVA_BDT_trainingEffBvsS\")"
   ]
  },
  {
   "cell_type": "code",
   "execution_count": null,
   "metadata": {},
   "outputs": [],
   "source": [
    "draw_mva = \"\"\"\n",
    "CMS_style.cd()\n",
    "canvas = ROOT.TCanvas(\"\", \"\", 600, 600)\n",
    "legend = ROOT.TLegend(0.6, 0.8, 0.93, 0.92, f\"{c}\")\n",
    "legend.SetNColumns(2)\n",
    "legend.SetTextFont(42)\n",
    "legend.SetBorderSize(1)\n",
    "\n",
    "hs = hists[f\"{c}_mva_s\"]\n",
    "hst = hists[f\"{c}_mva_s_train\"]\n",
    "ks_signal = hs.KolmogorovTest(hst, \"X\")\n",
    "print(ks_signal)\n",
    "\n",
    "hb = hists[f\"{c}_mva_b\"]\n",
    "hbt = hists[f\"{c}_mva_b_train\"]\n",
    "ks_bkg = hb.KolmogorovTest(hbt, \"X\")\n",
    "print(ks_bkg)\n",
    "\n",
    "hs.SetLineColor(ROOT.kBlue)\n",
    "hs.SetFillColorAlpha(ROOT.kBlue, 0.5)\n",
    "hs.SetFillStyle(1001)\n",
    "hst.SetMarkerColor(ROOT.kBlue)\n",
    "hst.SetMarkerStyle(20)\n",
    "\n",
    "hb.SetLineColor(ROOT.kRed)\n",
    "hb.SetFillColorAlpha(ROOT.kRed, 0.5)\n",
    "hb.SetFillStyle(1001)\n",
    "hbt.SetMarkerColor(ROOT.kRed)\n",
    "hbt.SetMarkerStyle(20)\n",
    "\n",
    "legend.AddEntry(hs, \"Signal\", \"lf\")\n",
    "legend.AddEntry(hst, \"Signal (Train)\", \"ep\")\n",
    "#legend.AddEntry(\"\", f\"KS-S {ks_signal}\", \"\")\n",
    "\n",
    "legend.AddEntry(hb, \"Bkg\", \"lf\")\n",
    "legend.AddEntry(hbt, \"Bkg (Train)\", \"ep\")\n",
    "#legend.AddEntry(\"\", f\"KS-B {ks_bkg}\", \"\")\n",
    "\n",
    "frame = max(hs, hst, hb, hbt, key=lambda x: x.GetMaximum()).Clone(\"frame\")\n",
    "frame.SetMaximum(1.4 * frame.GetMaximum())\n",
    "frame.SetTitle(f\"{c};BDT Score;\")\n",
    "frame.Draw(\"axis\")\n",
    "\n",
    "hs.Draw(\"hist same\")\n",
    "hst.Draw(\"x0 p same\")\n",
    "hb.Draw(\"hist same\")\n",
    "hbt.Draw(\"x0 p same\")\n",
    "\n",
    "legend.Draw()\n",
    "canvas.Draw()\n",
    "os.makedirs(f\"{plots_dir}\", exist_ok=True)\n",
    "canvas.SaveAs(f\"{plots_dir}/{c}.pdf\")\n",
    "canvas.SaveAs(f\"{plots_dir}/{c}.png\")\n",
    "\"\"\""
   ]
  },
  {
   "cell_type": "code",
   "execution_count": null,
   "metadata": {},
   "outputs": [],
   "source": [
    "c = \"wv_BDTG6\"\n",
    "exec(draw_mva)"
   ]
  },
  {
   "cell_type": "code",
   "execution_count": null,
   "metadata": {},
   "outputs": [],
   "source": [
    "c = \"wjj_BDTG6\"\n",
    "exec(draw_mva)"
   ]
  },
  {
   "cell_type": "code",
   "execution_count": null,
   "metadata": {},
   "outputs": [],
   "source": [
    "draw_roc = \"\"\"\n",
    "CMS_style.cd()\n",
    "canvas = ROOT.TCanvas()\n",
    "frame = canvas.DrawFrame(0.0, 0.0, 1.0, 1.0, \";Sig Eff.;Bkg Eff.\")\n",
    "frame.Draw()\n",
    "legend = ROOT.TLegend(0.18, 0.87, 0.4, 0.92)\n",
    "legend.SetBorderSize(1)\n",
    "for c in configs:\n",
    "    r = roc[f\"{c}_effBvsS\"]\n",
    "    r.Draw(\"same C PLC\")\n",
    "    auc = 1 - (r.Integral()/100)\n",
    "    legend.AddEntry(r, f\"{c} ({auc:.3f})\", \"l\")\n",
    "legend.Draw()\n",
    "canvas.SetLogy(0)\n",
    "canvas.SetGrid()\n",
    "canvas.Draw()\n",
    "os.makedirs(f\"{plots_dir}\", exist_ok=True)\n",
    "canvas.SaveAs(f\"{plots_dir}/roc.pdf\")\n",
    "canvas.SaveAs(f\"{plots_dir}/roc.png\")\n",
    "\"\"\"\n",
    "exec(draw_roc)"
   ]
  },
  {
   "cell_type": "code",
   "execution_count": null,
   "metadata": {},
   "outputs": [],
   "source": []
  }
 ],
 "metadata": {
  "kernelspec": {
   "display_name": "Python 3 LCG_96_CENTOS7_GCC8",
   "language": "python",
   "name": "python3_lcg_96_centos7_gcc8"
  },
  "language_info": {
   "codemirror_mode": {
    "name": "ipython",
    "version": 3
   },
   "file_extension": ".py",
   "mimetype": "text/x-python",
   "name": "python",
   "nbconvert_exporter": "python",
   "pygments_lexer": "ipython3",
   "version": "3.6.5"
  }
 },
 "nbformat": 4,
 "nbformat_minor": 4
}

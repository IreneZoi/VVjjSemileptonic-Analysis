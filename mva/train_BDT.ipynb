{
 "cells": [
  {
   "cell_type": "code",
   "execution_count": null,
   "metadata": {},
   "outputs": [],
   "source": [
    "import os\n",
    "import sys\n",
    "import importlib\n",
    "import inspect\n",
    "import numpy as np\n",
    "import awkward\n",
    "import ROOT"
   ]
  },
  {
   "cell_type": "code",
   "execution_count": null,
   "metadata": {},
   "outputs": [],
   "source": [
    "class args:\n",
    "    out_dir = \"BDT_Ada_1\"\n",
    "    in_dir = \"../plotting\"\n",
    "    data_frames = f\"{in_dir}/df_step1.awkd\"\n",
    "    training_preselection = \"training_01_W\""
   ]
  },
  {
   "cell_type": "code",
   "execution_count": null,
   "metadata": {},
   "outputs": [],
   "source": [
    "dfs = awkward.load(args.data_frames)"
   ]
  },
  {
   "cell_type": "code",
   "execution_count": null,
   "metadata": {},
   "outputs": [],
   "source": [
    "keys = list(dfs.keys())\n",
    "sigs = [i for i in keys if \"VBS_EWK/\" in i]\n",
    "bkgs = [i for i in keys if \"WJets/\" in i]"
   ]
  },
  {
   "cell_type": "code",
   "execution_count": null,
   "metadata": {},
   "outputs": [],
   "source": [
    "os.makedirs(args.out_dir, exist_ok=True)"
   ]
  },
  {
   "cell_type": "code",
   "execution_count": null,
   "metadata": {},
   "outputs": [],
   "source": [
    "training_variables = [\n",
    "    \"lept1_pt\", \"lept1_eta\",\n",
    "    \"pf_met_corr\",\n",
    "    \"vbf_jj_m\", \"vbf_jj_Deta\",\n",
    "    \"vbf_j1_pt\", \"vbf_j1_eta\", \n",
    "    \"vbf_j2_pt\", \"vbf_j2_eta\",\n",
    "    \"fatjet_m\", \"fatjet_pt\", \"fatjet_eta\",\n",
    "    \"wv_m\", \"wv_pt\", \"wv_eta\",\n",
    "    \"boson_centrality\", \"zeppenfeld_w_Deta\", \"zeppenfeld_v_Deta\",\n",
    "    \"costheta1_type0\", \"costheta2_type0\", \"phi_type0\", \"phi1_type0\", \"costhetastar_type0\",\n",
    "    \"w_pt\", \"w_eta\", \"w_mt\",\n",
    "    \"ht\"\n",
    "]\n",
    "\n",
    "weight_variables = [\n",
    "    \"gen_weight\",\n",
    "#    \"pu_weight\"\n",
    "]\n",
    "\n",
    "variables_ = open(f\"{args.out_dir}/variable_list.txt\", \"w\")\n",
    "for i in training_variables:\n",
    "    print(i, file=variables_)\n",
    "variables_.close()"
   ]
  },
  {
   "cell_type": "code",
   "execution_count": null,
   "metadata": {},
   "outputs": [],
   "source": [
    "sys.path.append(f\"{args.in_dir}/selections\")\n",
    "preselection_code = importlib.import_module(args.training_preselection)\n",
    "\n",
    "preselection = preselection_code.region_\n",
    "\n",
    "print(inspect.getsource(preselection))"
   ]
  },
  {
   "cell_type": "code",
   "execution_count": null,
   "metadata": {},
   "outputs": [],
   "source": [
    "X_sig = None\n",
    "w_sig = None\n",
    "\n",
    "for sig_key in sigs:\n",
    "    df = dfs[sig_key][\"dframe\"]\n",
    "\n",
    "    preselect_df = df[preselection(df, \"m\") | preselection(df, \"e\")]\n",
    "\n",
    "    training_columns = [preselect_df[i] for i in training_variables]\n",
    "\n",
    "    X_ = np.column_stack(training_columns)\n",
    "    w_ = 1.0\n",
    "    for i in weight_variables:\n",
    "        w_ = w_ * preselect_df[i]\n",
    "\n",
    "    if X_sig is None:\n",
    "        X_sig = X_\n",
    "        w_sig = w_\n",
    "\n",
    "    else:\n",
    "        X_sig = np.concatenate([X_sig, X_])\n",
    "        w_sig = np.concatenate([w_sig, w_])\n",
    "\n",
    "print(\"Signal dataset shape: \", X_sig.shape)"
   ]
  },
  {
   "cell_type": "code",
   "execution_count": null,
   "metadata": {},
   "outputs": [],
   "source": [
    "X_bkg = None\n",
    "w_bkg = None\n",
    "\n",
    "for bkg_key in bkgs:\n",
    "    df = dfs[bkg_key][\"dframe\"]\n",
    "\n",
    "    preselect_df = df[preselection(df, \"m\") | preselection(df, \"e\")]\n",
    "\n",
    "    training_columns = [preselect_df[i] for i in training_variables]\n",
    "\n",
    "    X_ = np.column_stack(training_columns)\n",
    "    w_ = 1.0\n",
    "    for i in weight_variables:\n",
    "        w_ = w_ * preselect_df[i]\n",
    "\n",
    "    if X_bkg is None:\n",
    "        X_bkg = X_\n",
    "        w_bkg = w_\n",
    "\n",
    "    else:\n",
    "        X_bkg = np.concatenate([X_bkg, X_])\n",
    "        w_bkg = np.concatenate([w_bkg, w_])\n",
    "\n",
    "print(\"Background dataset shape: \", X_bkg.shape)"
   ]
  },
  {
   "cell_type": "code",
   "execution_count": null,
   "metadata": {},
   "outputs": [],
   "source": [
    "def make_std_vector(X):\n",
    "    events = []\n",
    "    for row in X:\n",
    "        a = ROOT.std.vector(\"double\")()\n",
    "        for r in row:\n",
    "            a.push_back(r)\n",
    "        events.append(a)\n",
    "    return events"
   ]
  },
  {
   "cell_type": "code",
   "execution_count": null,
   "metadata": {},
   "outputs": [],
   "source": [
    "permuate_sig = np.random.permutation(X_sig.shape[0])\n",
    "X_sig = X_sig[permuate_sig]\n",
    "\n",
    "permuate_bkg = np.random.permutation(X_bkg.shape[0])\n",
    "X_bkg = X_bkg[permuate_bkg]\n",
    "\n",
    "ns_train = int(X_sig.shape[0] / 2)\n",
    "nb_train = int(X_bkg.shape[0] / 2)\n",
    "\n",
    "X_sig_train, w_sig_train = X_sig[:ns_train], w_sig[:ns_train]\n",
    "X_sig_test, w_sig_test = X_sig[ns_train:], w_sig[ns_train:]\n",
    "\n",
    "X_bkg_train, w_bkg_train = X_bkg[:nb_train], w_bkg[:nb_train]\n",
    "X_bkg_test, w_bkg_test = X_bkg[nb_train:], w_bkg[nb_train:]"
   ]
  },
  {
   "cell_type": "code",
   "execution_count": null,
   "metadata": {},
   "outputs": [],
   "source": [
    "X_sig_train_vec = make_std_vector(X_sig_train)\n",
    "X_sig_test_vec = make_std_vector(X_sig_test)\n",
    "\n",
    "X_bkg_train_vec = make_std_vector(X_bkg_train)\n",
    "X_bkg_test_vec = make_std_vector(X_bkg_test)"
   ]
  },
  {
   "cell_type": "code",
   "execution_count": null,
   "metadata": {},
   "outputs": [],
   "source": [
    "outfile = ROOT.TFile(f\"{args.out_dir}/tmva_output.root\", \"recreate\")\n",
    "\n",
    "factory = ROOT.TMVA.Factory(\n",
    "    \"VBS\",\n",
    "    outfile,\n",
    "    \":\".join([\n",
    "        \"!V\", \"!Silent\",\n",
    "        \"Color\", \"DrawProgressBar\",\n",
    "        \"Transformations=I,G\",\n",
    "        f\"AnalysisType=Classification\"\n",
    "    ])\n",
    ")\n",
    "\n",
    "dataloader = ROOT.TMVA.DataLoader(args.out_dir)\n",
    "\n",
    "for var in training_variables:\n",
    "    dataloader.AddVariable(var, \"F\")\n",
    "\n",
    "for event, w_ in zip(X_sig_train_vec, w_sig_train):\n",
    "    dataloader.AddSignalTrainingEvent(event, w_)\n",
    "\n",
    "for event, w_ in zip(X_sig_test_vec, w_sig_test):\n",
    "    dataloader.AddSignalTestEvent(event, w_)\n",
    "\n",
    "for event, w_ in zip(X_bkg_train_vec, w_bkg_train):\n",
    "    dataloader.AddBackgroundTrainingEvent(event, w_)\n",
    "\n",
    "for event, w_ in zip(X_bkg_test_vec, w_bkg_test):\n",
    "    dataloader.AddBackgroundTestEvent(event, w_)\n",
    "\n",
    "dataloader.PrepareTrainingAndTestTree(ROOT.TCut(\"\"), \"SplitMode=Random:NormMode=NumEvents\")"
   ]
  },
  {
   "cell_type": "code",
   "execution_count": null,
   "metadata": {},
   "outputs": [],
   "source": [
    "factory.BookMethod(\n",
    "    dataloader,\n",
    "    \"BDT\",\n",
    "    \"BDT\",\n",
    "    \":\".join([\n",
    "        \"!H\", \"!V\",\n",
    "        \"NTrees=500\",\n",
    "        \"MinNodeSize=10%\",\n",
    "        \"BoostType=AdaBoost\",\n",
    "        \"AdaBoostBeta=0.05\",\n",
    "        \"NegWeightTreatment=Pray\"\n",
    "    ])\n",
    ")\n",
    "\n",
    "#factory.BookMethod(\n",
    "#    dataloader,\n",
    "#    \"BDT\",\n",
    "#    \"BDT\",\n",
    "#    \":\".join([\n",
    "#        \"!H\", \"!V\",\n",
    "#        \"NTrees=500\",\n",
    "#        \"MinNodeSize=10%\",\n",
    "#        \"BoostType=Grad\",\n",
    "#        \"Shrinkage=0.05\",\n",
    "#        \"UseBaggedBoost\", \"BaggedSampleFraction=0.5\",\n",
    "#        \"NegWeightTreatment=Pray\"\n",
    "#    ])\n",
    "#)"
   ]
  },
  {
   "cell_type": "code",
   "execution_count": null,
   "metadata": {},
   "outputs": [],
   "source": [
    "factory.TrainAllMethods()\n",
    "factory.TestAllMethods()\n",
    "factory.EvaluateAllMethods()\n",
    "   \n",
    "outfile.cd()\n",
    "outfile.Close()"
   ]
  },
  {
   "cell_type": "code",
   "execution_count": null,
   "metadata": {},
   "outputs": [],
   "source": []
  }
 ],
 "metadata": {
  "kernelspec": {
   "display_name": "Python 3 LCG_96_CENTOS7_GCC8",
   "language": "python",
   "name": "python3_lcg_96_centos7_gcc8"
  },
  "language_info": {
   "codemirror_mode": {
    "name": "ipython",
    "version": 3
   },
   "file_extension": ".py",
   "mimetype": "text/x-python",
   "name": "python",
   "nbconvert_exporter": "python",
   "pygments_lexer": "ipython3",
   "version": "3.6.5"
  }
 },
 "nbformat": 4,
 "nbformat_minor": 4
}
